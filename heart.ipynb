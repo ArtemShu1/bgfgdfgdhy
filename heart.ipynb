{
 "cells": [
  {
   "cell_type": "code",
   "execution_count": 1,
   "id": "2cf7959c",
   "metadata": {},
   "outputs": [],
   "source": [
    "import numpy as np\n",
    "import pandas as pd\n",
    "import io\n",
    "import statsmodels.formula.api as smf\n",
    "import scipy.stats as stats\n",
    "import scipy\n",
    "import seaborn as sns\n",
    "import re\n",
    "import matplotlib.pyplot as plt\n"
   ]
  },
  {
   "cell_type": "markdown",
   "id": "f465618a",
   "metadata": {},
   "source": [
    "Исследуем датасет, посвященные сердечным приступам. \n",
    "\n",
    "## Для полного анализа необходимо:\n",
    "1. Построенить OLS-модель и график\n",
    "2. Интерпретировать коэффициенты модели \n",
    "3. Вычисленить предсказанные значения, TSS, RSS, ESS, стандартную ошибку, R^2 и R^2adj.\n",
    "4. Проанализировать значимость переменных \n",
    "5. Провести F-test\n",
    "6. Вычислить Доверительные интервалы\n",
    "7. Составить прогнорз для отдельных людей \n",
    "8. Вычислить коэффициенты VIF\n",
    "9. Провести анализ структурных сдвигов\n",
    "10. Спецификация\n",
    "11. Провести BP-тест \n",
    "12. Провести тест Дарбина-Уотсона\n"
   ]
  },
  {
   "cell_type": "markdown",
   "id": "f853e029",
   "metadata": {},
   "source": [
    "## 1. OLS-модель, график"
   ]
  },
  {
   "cell_type": "code",
   "execution_count": 26,
   "id": "9f8a80e2",
   "metadata": {},
   "outputs": [
    {
     "data": {
      "text/html": [
       "<div>\n",
       "<style scoped>\n",
       "    .dataframe tbody tr th:only-of-type {\n",
       "        vertical-align: middle;\n",
       "    }\n",
       "\n",
       "    .dataframe tbody tr th {\n",
       "        vertical-align: top;\n",
       "    }\n",
       "\n",
       "    .dataframe thead th {\n",
       "        text-align: right;\n",
       "    }\n",
       "</style>\n",
       "<table border=\"1\" class=\"dataframe\">\n",
       "  <thead>\n",
       "    <tr style=\"text-align: right;\">\n",
       "      <th></th>\n",
       "      <th>age</th>\n",
       "      <th>sex</th>\n",
       "      <th>cp</th>\n",
       "      <th>trtbps</th>\n",
       "      <th>chol</th>\n",
       "      <th>fbs</th>\n",
       "      <th>restecg</th>\n",
       "      <th>thalachh</th>\n",
       "      <th>exng</th>\n",
       "      <th>oldpeak</th>\n",
       "      <th>slp</th>\n",
       "      <th>caa</th>\n",
       "      <th>thall</th>\n",
       "      <th>output</th>\n",
       "    </tr>\n",
       "  </thead>\n",
       "  <tbody>\n",
       "    <tr>\n",
       "      <th>0</th>\n",
       "      <td>63</td>\n",
       "      <td>1</td>\n",
       "      <td>3</td>\n",
       "      <td>145</td>\n",
       "      <td>233</td>\n",
       "      <td>1</td>\n",
       "      <td>0</td>\n",
       "      <td>150</td>\n",
       "      <td>0</td>\n",
       "      <td>2.3</td>\n",
       "      <td>0</td>\n",
       "      <td>0</td>\n",
       "      <td>1</td>\n",
       "      <td>1</td>\n",
       "    </tr>\n",
       "    <tr>\n",
       "      <th>1</th>\n",
       "      <td>37</td>\n",
       "      <td>1</td>\n",
       "      <td>2</td>\n",
       "      <td>130</td>\n",
       "      <td>250</td>\n",
       "      <td>0</td>\n",
       "      <td>1</td>\n",
       "      <td>187</td>\n",
       "      <td>0</td>\n",
       "      <td>3.5</td>\n",
       "      <td>0</td>\n",
       "      <td>0</td>\n",
       "      <td>2</td>\n",
       "      <td>1</td>\n",
       "    </tr>\n",
       "    <tr>\n",
       "      <th>2</th>\n",
       "      <td>41</td>\n",
       "      <td>0</td>\n",
       "      <td>1</td>\n",
       "      <td>130</td>\n",
       "      <td>204</td>\n",
       "      <td>0</td>\n",
       "      <td>0</td>\n",
       "      <td>172</td>\n",
       "      <td>0</td>\n",
       "      <td>1.4</td>\n",
       "      <td>2</td>\n",
       "      <td>0</td>\n",
       "      <td>2</td>\n",
       "      <td>1</td>\n",
       "    </tr>\n",
       "    <tr>\n",
       "      <th>3</th>\n",
       "      <td>56</td>\n",
       "      <td>1</td>\n",
       "      <td>1</td>\n",
       "      <td>120</td>\n",
       "      <td>236</td>\n",
       "      <td>0</td>\n",
       "      <td>1</td>\n",
       "      <td>178</td>\n",
       "      <td>0</td>\n",
       "      <td>0.8</td>\n",
       "      <td>2</td>\n",
       "      <td>0</td>\n",
       "      <td>2</td>\n",
       "      <td>1</td>\n",
       "    </tr>\n",
       "    <tr>\n",
       "      <th>4</th>\n",
       "      <td>57</td>\n",
       "      <td>0</td>\n",
       "      <td>0</td>\n",
       "      <td>120</td>\n",
       "      <td>354</td>\n",
       "      <td>0</td>\n",
       "      <td>1</td>\n",
       "      <td>163</td>\n",
       "      <td>1</td>\n",
       "      <td>0.6</td>\n",
       "      <td>2</td>\n",
       "      <td>0</td>\n",
       "      <td>2</td>\n",
       "      <td>1</td>\n",
       "    </tr>\n",
       "    <tr>\n",
       "      <th>...</th>\n",
       "      <td>...</td>\n",
       "      <td>...</td>\n",
       "      <td>...</td>\n",
       "      <td>...</td>\n",
       "      <td>...</td>\n",
       "      <td>...</td>\n",
       "      <td>...</td>\n",
       "      <td>...</td>\n",
       "      <td>...</td>\n",
       "      <td>...</td>\n",
       "      <td>...</td>\n",
       "      <td>...</td>\n",
       "      <td>...</td>\n",
       "      <td>...</td>\n",
       "    </tr>\n",
       "    <tr>\n",
       "      <th>298</th>\n",
       "      <td>57</td>\n",
       "      <td>0</td>\n",
       "      <td>0</td>\n",
       "      <td>140</td>\n",
       "      <td>241</td>\n",
       "      <td>0</td>\n",
       "      <td>1</td>\n",
       "      <td>123</td>\n",
       "      <td>1</td>\n",
       "      <td>0.2</td>\n",
       "      <td>1</td>\n",
       "      <td>0</td>\n",
       "      <td>3</td>\n",
       "      <td>0</td>\n",
       "    </tr>\n",
       "    <tr>\n",
       "      <th>299</th>\n",
       "      <td>45</td>\n",
       "      <td>1</td>\n",
       "      <td>3</td>\n",
       "      <td>110</td>\n",
       "      <td>264</td>\n",
       "      <td>0</td>\n",
       "      <td>1</td>\n",
       "      <td>132</td>\n",
       "      <td>0</td>\n",
       "      <td>1.2</td>\n",
       "      <td>1</td>\n",
       "      <td>0</td>\n",
       "      <td>3</td>\n",
       "      <td>0</td>\n",
       "    </tr>\n",
       "    <tr>\n",
       "      <th>300</th>\n",
       "      <td>68</td>\n",
       "      <td>1</td>\n",
       "      <td>0</td>\n",
       "      <td>144</td>\n",
       "      <td>193</td>\n",
       "      <td>1</td>\n",
       "      <td>1</td>\n",
       "      <td>141</td>\n",
       "      <td>0</td>\n",
       "      <td>3.4</td>\n",
       "      <td>1</td>\n",
       "      <td>2</td>\n",
       "      <td>3</td>\n",
       "      <td>0</td>\n",
       "    </tr>\n",
       "    <tr>\n",
       "      <th>301</th>\n",
       "      <td>57</td>\n",
       "      <td>1</td>\n",
       "      <td>0</td>\n",
       "      <td>130</td>\n",
       "      <td>131</td>\n",
       "      <td>0</td>\n",
       "      <td>1</td>\n",
       "      <td>115</td>\n",
       "      <td>1</td>\n",
       "      <td>1.2</td>\n",
       "      <td>1</td>\n",
       "      <td>1</td>\n",
       "      <td>3</td>\n",
       "      <td>0</td>\n",
       "    </tr>\n",
       "    <tr>\n",
       "      <th>302</th>\n",
       "      <td>57</td>\n",
       "      <td>0</td>\n",
       "      <td>1</td>\n",
       "      <td>130</td>\n",
       "      <td>236</td>\n",
       "      <td>0</td>\n",
       "      <td>0</td>\n",
       "      <td>174</td>\n",
       "      <td>0</td>\n",
       "      <td>0.0</td>\n",
       "      <td>1</td>\n",
       "      <td>1</td>\n",
       "      <td>2</td>\n",
       "      <td>0</td>\n",
       "    </tr>\n",
       "  </tbody>\n",
       "</table>\n",
       "<p>303 rows × 14 columns</p>\n",
       "</div>"
      ],
      "text/plain": [
       "     age  sex  cp  trtbps  chol  fbs  restecg  thalachh  exng  oldpeak  slp  \\\n",
       "0     63    1   3     145   233    1        0       150     0      2.3    0   \n",
       "1     37    1   2     130   250    0        1       187     0      3.5    0   \n",
       "2     41    0   1     130   204    0        0       172     0      1.4    2   \n",
       "3     56    1   1     120   236    0        1       178     0      0.8    2   \n",
       "4     57    0   0     120   354    0        1       163     1      0.6    2   \n",
       "..   ...  ...  ..     ...   ...  ...      ...       ...   ...      ...  ...   \n",
       "298   57    0   0     140   241    0        1       123     1      0.2    1   \n",
       "299   45    1   3     110   264    0        1       132     0      1.2    1   \n",
       "300   68    1   0     144   193    1        1       141     0      3.4    1   \n",
       "301   57    1   0     130   131    0        1       115     1      1.2    1   \n",
       "302   57    0   1     130   236    0        0       174     0      0.0    1   \n",
       "\n",
       "     caa  thall  output  \n",
       "0      0      1       1  \n",
       "1      0      2       1  \n",
       "2      0      2       1  \n",
       "3      0      2       1  \n",
       "4      0      2       1  \n",
       "..   ...    ...     ...  \n",
       "298    0      3       0  \n",
       "299    0      3       0  \n",
       "300    2      3       0  \n",
       "301    1      3       0  \n",
       "302    1      2       0  \n",
       "\n",
       "[303 rows x 14 columns]"
      ]
     },
     "execution_count": 26,
     "metadata": {},
     "output_type": "execute_result"
    }
   ],
   "source": [
    "df = pd.read_csv('https://raw.githubusercontent.com/vysotinavaleria/Homework-econometrics/main/heart.csv')\n",
    "df"
   ]
  },
  {
   "cell_type": "markdown",
   "id": "dfb5f1b6",
   "metadata": {},
   "source": [
    "#### Регрессия\n",
    "$$\n",
    "Thalachh (пульс) = \\beta_0 + \\beta_1*age +\\beta_2*sex+\\beta_3*trtbps (давление)\n",
    "$$"
   ]
  },
  {
   "cell_type": "code",
   "execution_count": 4,
   "id": "fd89b262",
   "metadata": {},
   "outputs": [
    {
     "data": {
      "text/plain": [
       "Intercept    199.136\n",
       "age           -1.073\n",
       "sex           -4.034\n",
       "trtbps         0.088\n",
       "dtype: float64"
      ]
     },
     "execution_count": 4,
     "metadata": {},
     "output_type": "execute_result"
    }
   ],
   "source": [
    "heart_eq = smf.ols(formula='thalachh~age+sex+trtbps', data=df).fit()\n",
    "heart_eq.params.round(3)"
   ]
  },
  {
   "cell_type": "code",
   "execution_count": 5,
   "id": "4ed8b152",
   "metadata": {},
   "outputs": [
    {
     "data": {
      "text/plain": [
       "<AxesSubplot: xlabel='age', ylabel='trtbps'>"
      ]
     },
     "execution_count": 5,
     "metadata": {},
     "output_type": "execute_result"
    },
    {
     "data": {
      "image/png": "[encoded data removed]",
      "text/plain": [
       "<Figure size 640x480 with 1 Axes>"
      ]
     },
     "metadata": {},
     "output_type": "display_data"
    }
   ],
   "source": [
    "sns.regplot(data=df, y='trtbps', x='age', ci=None, order = 2, line_kws={\"color\": \"r\"})"
   ]
  },
  {
   "cell_type": "markdown",
   "id": "f60bf757",
   "metadata": {},
   "source": [
    "### Интерпретация графика\n",
    "У возраста и артериального давления наблюдается прямая зависимость, чем старше человек, тем выше его давление."
   ]
  },
  {
   "cell_type": "markdown",
   "id": "93db0dd2",
   "metadata": {},
   "source": [
    "## 2. Интерпретация коэффициентов модели"
   ]
  },
  {
   "cell_type": "markdown",
   "id": "fd33f9af",
   "metadata": {},
   "source": [
    "- При увеличении возраста человека на 1 год, пулье снижается на 1.073 при прочих равных условиях\n",
    "- У мужчин пульс выше на 4.034 удара в минуту при прочих равных условиях \n",
    "- При повышении артериального давления на 1, пульс  увеличивается на 0.088 при прочих равных условиях."
   ]
  },
  {
   "cell_type": "markdown",
   "id": "bf65ad9d",
   "metadata": {},
   "source": [
    "## 3. Вычисление предсказанных значений, TSS, RSS, ESS, стандартной ошибки, R^2 и R^2adj."
   ]
  },
  {
   "cell_type": "code",
   "execution_count": 7,
   "id": "22769f3b",
   "metadata": {},
   "outputs": [],
   "source": [
    "TSS = heart_eq.centered_tss.round(3)\n",
    "ESS = heart_eq.ess.round(3)\n",
    "RSS = heart_eq.ssr.round(3)\n",
    "R2 = RSS/TSS\n",
    "s2 = RSS/(303 - 3)\n",
    "R2adj = 1 - (1 - R2)*(303-1)/(303 - 3)"
   ]
  },
  {
   "cell_type": "code",
   "execution_count": 8,
   "id": "f2a5ed1c",
   "metadata": {},
   "outputs": [
    {
     "name": "stdout",
     "output_type": "stream",
     "text": [
      "TSS=  158443.215\n",
      "ESS=  26937.681\n",
      "RSS=  131505.534\n",
      "R2 (коэффициент детерминации) =  0.8299852663302749\n",
      "s2 (стандартная ошибка) =  438.35178\n",
      "R2agj (исправленный коэффициент детерминации)=  0.8288518347724767\n"
     ]
    }
   ],
   "source": [
    "print('TSS= ', TSS)\n",
    "print('ESS= ', ESS)\n",
    "print('RSS= ', RSS)\n",
    "print('R2 (коэффициент детерминации) = ', R2)\n",
    "print('s2 (стандартная ошибка) = ', s2)\n",
    "print('R2agj (исправленный коэффициент детерминации)= ', R2adj)"
   ]
  },
  {
   "cell_type": "markdown",
   "id": "3491f2a2",
   "metadata": {},
   "source": [
    "## 4. Анализ значимости переменных регрессии"
   ]
  },
  {
   "cell_type": "code",
   "execution_count": 9,
   "id": "5e7cdb74",
   "metadata": {},
   "outputs": [
    {
     "data": {
      "text/html": [
       "<table class=\"simpletable\">\n",
       "<tr>\n",
       "      <td></td>         <th>coef</th>     <th>std err</th>      <th>t</th>      <th>P>|t|</th>  <th>[0.025</th>    <th>0.975]</th>  \n",
       "</tr>\n",
       "<tr>\n",
       "  <th>Intercept</th> <td>  199.1356</td> <td>   10.713</td> <td>   18.588</td> <td> 0.000</td> <td>  178.053</td> <td>  220.218</td>\n",
       "</tr>\n",
       "<tr>\n",
       "  <th>age</th>       <td>   -1.0730</td> <td>    0.139</td> <td>   -7.725</td> <td> 0.000</td> <td>   -1.346</td> <td>   -0.800</td>\n",
       "</tr>\n",
       "<tr>\n",
       "  <th>sex</th>       <td>   -4.0340</td> <td>    2.603</td> <td>   -1.549</td> <td> 0.122</td> <td>   -9.158</td> <td>    1.089</td>\n",
       "</tr>\n",
       "<tr>\n",
       "  <th>trtbps</th>    <td>    0.0881</td> <td>    0.072</td> <td>    1.229</td> <td> 0.220</td> <td>   -0.053</td> <td>    0.229</td>\n",
       "</tr>\n",
       "</table>"
      ],
      "text/plain": [
       "<class 'statsmodels.iolib.table.SimpleTable'>"
      ]
     },
     "execution_count": 9,
     "metadata": {},
     "output_type": "execute_result"
    }
   ],
   "source": [
    "model = smf.ols(formula='thalachh~age+sex+trtbps', data=df).fit()\n",
    "model.summary(alpha=0.05).tables[1]"
   ]
  },
  {
   "cell_type": "code",
   "execution_count": 10,
   "id": "970ef1c5",
   "metadata": {},
   "outputs": [
    {
     "data": {
      "text/html": [
       "<div>\n",
       "<style scoped>\n",
       "    .dataframe tbody tr th:only-of-type {\n",
       "        vertical-align: middle;\n",
       "    }\n",
       "\n",
       "    .dataframe tbody tr th {\n",
       "        vertical-align: top;\n",
       "    }\n",
       "\n",
       "    .dataframe thead th {\n",
       "        text-align: right;\n",
       "    }\n",
       "</style>\n",
       "<table border=\"1\" class=\"dataframe\">\n",
       "  <thead>\n",
       "    <tr style=\"text-align: right;\">\n",
       "      <th></th>\n",
       "      <th>coef</th>\n",
       "      <th>std err</th>\n",
       "      <th>t</th>\n",
       "      <th>P&gt;|t|</th>\n",
       "      <th>[0.025</th>\n",
       "      <th>0.975]</th>\n",
       "    </tr>\n",
       "  </thead>\n",
       "  <tbody>\n",
       "    <tr>\n",
       "      <th>Intercept</th>\n",
       "      <td>199.1356</td>\n",
       "      <td>10.713</td>\n",
       "      <td>18.588</td>\n",
       "      <td>0.000</td>\n",
       "      <td>178.053</td>\n",
       "      <td>220.218</td>\n",
       "    </tr>\n",
       "    <tr>\n",
       "      <th>age</th>\n",
       "      <td>-1.0730</td>\n",
       "      <td>0.139</td>\n",
       "      <td>-7.725</td>\n",
       "      <td>0.000</td>\n",
       "      <td>-1.346</td>\n",
       "      <td>-0.800</td>\n",
       "    </tr>\n",
       "    <tr>\n",
       "      <th>sex</th>\n",
       "      <td>-4.0340</td>\n",
       "      <td>2.603</td>\n",
       "      <td>-1.549</td>\n",
       "      <td>0.122</td>\n",
       "      <td>-9.158</td>\n",
       "      <td>1.089</td>\n",
       "    </tr>\n",
       "    <tr>\n",
       "      <th>trtbps</th>\n",
       "      <td>0.0881</td>\n",
       "      <td>0.072</td>\n",
       "      <td>1.229</td>\n",
       "      <td>0.220</td>\n",
       "      <td>-0.053</td>\n",
       "      <td>0.229</td>\n",
       "    </tr>\n",
       "  </tbody>\n",
       "</table>\n",
       "</div>"
      ],
      "text/plain": [
       "               coef  std err       t  P>|t|   [0.025   0.975]\n",
       "Intercept  199.1356   10.713  18.588  0.000  178.053  220.218\n",
       "age         -1.0730    0.139  -7.725  0.000   -1.346   -0.800\n",
       "sex         -4.0340    2.603  -1.549  0.122   -9.158    1.089\n",
       "trtbps       0.0881    0.072   1.229  0.220   -0.053    0.229"
      ]
     },
     "execution_count": 10,
     "metadata": {},
     "output_type": "execute_result"
    }
   ],
   "source": [
    "df = pd.read_html(model.summary().tables[1].as_html(), header=0, index_col=0)[0] \n",
    "df"
   ]
  },
  {
   "cell_type": "code",
   "execution_count": 11,
   "id": "c20d03d7",
   "metadata": {},
   "outputs": [
    {
     "data": {
      "text/html": [
       "<div>\n",
       "<style scoped>\n",
       "    .dataframe tbody tr th:only-of-type {\n",
       "        vertical-align: middle;\n",
       "    }\n",
       "\n",
       "    .dataframe tbody tr th {\n",
       "        vertical-align: top;\n",
       "    }\n",
       "\n",
       "    .dataframe thead th {\n",
       "        text-align: right;\n",
       "    }\n",
       "</style>\n",
       "<table border=\"1\" class=\"dataframe\">\n",
       "  <thead>\n",
       "    <tr style=\"text-align: right;\">\n",
       "      <th></th>\n",
       "      <th>coef</th>\n",
       "      <th>std err</th>\n",
       "      <th>t</th>\n",
       "      <th>P&gt;|t|</th>\n",
       "      <th>[0.025</th>\n",
       "      <th>0.975]</th>\n",
       "      <th>tvalues</th>\n",
       "    </tr>\n",
       "  </thead>\n",
       "  <tbody>\n",
       "    <tr>\n",
       "      <th>Intercept</th>\n",
       "      <td>199.1356</td>\n",
       "      <td>10.713</td>\n",
       "      <td>18.588</td>\n",
       "      <td>0.000</td>\n",
       "      <td>178.053</td>\n",
       "      <td>220.218</td>\n",
       "      <td>18.588220</td>\n",
       "    </tr>\n",
       "    <tr>\n",
       "      <th>age</th>\n",
       "      <td>-1.0730</td>\n",
       "      <td>0.139</td>\n",
       "      <td>-7.725</td>\n",
       "      <td>0.000</td>\n",
       "      <td>-1.346</td>\n",
       "      <td>-0.800</td>\n",
       "      <td>-7.719424</td>\n",
       "    </tr>\n",
       "    <tr>\n",
       "      <th>sex</th>\n",
       "      <td>-4.0340</td>\n",
       "      <td>2.603</td>\n",
       "      <td>-1.549</td>\n",
       "      <td>0.122</td>\n",
       "      <td>-9.158</td>\n",
       "      <td>1.089</td>\n",
       "      <td>-1.549750</td>\n",
       "    </tr>\n",
       "    <tr>\n",
       "      <th>trtbps</th>\n",
       "      <td>0.0881</td>\n",
       "      <td>0.072</td>\n",
       "      <td>1.229</td>\n",
       "      <td>0.220</td>\n",
       "      <td>-0.053</td>\n",
       "      <td>0.229</td>\n",
       "      <td>1.223611</td>\n",
       "    </tr>\n",
       "  </tbody>\n",
       "</table>\n",
       "</div>"
      ],
      "text/plain": [
       "               coef  std err       t  P>|t|   [0.025   0.975]    tvalues\n",
       "Intercept  199.1356   10.713  18.588  0.000  178.053  220.218  18.588220\n",
       "age         -1.0730    0.139  -7.725  0.000   -1.346   -0.800  -7.719424\n",
       "sex         -4.0340    2.603  -1.549  0.122   -9.158    1.089  -1.549750\n",
       "trtbps       0.0881    0.072   1.229  0.220   -0.053    0.229   1.223611"
      ]
     },
     "execution_count": 11,
     "metadata": {},
     "output_type": "execute_result"
    }
   ],
   "source": [
    "df['tvalues']  = df['coef']/df['std err']\n",
    "df"
   ]
  },
  {
   "cell_type": "code",
   "execution_count": 12,
   "id": "3361ed59",
   "metadata": {},
   "outputs": [
    {
     "name": "stdout",
     "output_type": "stream",
     "text": [
      "Уровень значимости alpha:  0.05\n",
      "Критическое значение t_crit:  1.968\n"
     ]
    }
   ],
   "source": [
    "alpha = 0.05 \n",
    "print('Уровень значимости alpha: ', alpha)\n",
    "DF = int(model.df_resid) \n",
    "t_crit = scipy.stats.t.ppf(1-alpha/2, DF)\n",
    "print('Критическое значение t_crit: ', t_crit.round(3))"
   ]
  },
  {
   "cell_type": "code",
   "execution_count": 13,
   "id": "1507421d",
   "metadata": {},
   "outputs": [
    {
     "data": {
      "text/html": [
       "<div>\n",
       "<style scoped>\n",
       "    .dataframe tbody tr th:only-of-type {\n",
       "        vertical-align: middle;\n",
       "    }\n",
       "\n",
       "    .dataframe tbody tr th {\n",
       "        vertical-align: top;\n",
       "    }\n",
       "\n",
       "    .dataframe thead th {\n",
       "        text-align: right;\n",
       "    }\n",
       "</style>\n",
       "<table border=\"1\" class=\"dataframe\">\n",
       "  <thead>\n",
       "    <tr style=\"text-align: right;\">\n",
       "      <th></th>\n",
       "      <th>coef</th>\n",
       "      <th>std err</th>\n",
       "      <th>t</th>\n",
       "      <th>P&gt;|t|</th>\n",
       "      <th>[0.025</th>\n",
       "      <th>0.975]</th>\n",
       "      <th>tvalues</th>\n",
       "      <th>znachimosty</th>\n",
       "    </tr>\n",
       "  </thead>\n",
       "  <tbody>\n",
       "    <tr>\n",
       "      <th>Intercept</th>\n",
       "      <td>199.1356</td>\n",
       "      <td>10.713</td>\n",
       "      <td>18.588</td>\n",
       "      <td>0.000</td>\n",
       "      <td>178.053</td>\n",
       "      <td>220.218</td>\n",
       "      <td>18.588220</td>\n",
       "      <td>znachim</td>\n",
       "    </tr>\n",
       "    <tr>\n",
       "      <th>age</th>\n",
       "      <td>-1.0730</td>\n",
       "      <td>0.139</td>\n",
       "      <td>-7.725</td>\n",
       "      <td>0.000</td>\n",
       "      <td>-1.346</td>\n",
       "      <td>-0.800</td>\n",
       "      <td>-7.719424</td>\n",
       "      <td>znachim</td>\n",
       "    </tr>\n",
       "    <tr>\n",
       "      <th>sex</th>\n",
       "      <td>-4.0340</td>\n",
       "      <td>2.603</td>\n",
       "      <td>-1.549</td>\n",
       "      <td>0.122</td>\n",
       "      <td>-9.158</td>\n",
       "      <td>1.089</td>\n",
       "      <td>-1.549750</td>\n",
       "      <td>ne znachim</td>\n",
       "    </tr>\n",
       "    <tr>\n",
       "      <th>trtbps</th>\n",
       "      <td>0.0881</td>\n",
       "      <td>0.072</td>\n",
       "      <td>1.229</td>\n",
       "      <td>0.220</td>\n",
       "      <td>-0.053</td>\n",
       "      <td>0.229</td>\n",
       "      <td>1.223611</td>\n",
       "      <td>ne znachim</td>\n",
       "    </tr>\n",
       "  </tbody>\n",
       "</table>\n",
       "</div>"
      ],
      "text/plain": [
       "               coef  std err       t  P>|t|   [0.025   0.975]    tvalues  \\\n",
       "Intercept  199.1356   10.713  18.588  0.000  178.053  220.218  18.588220   \n",
       "age         -1.0730    0.139  -7.725  0.000   -1.346   -0.800  -7.719424   \n",
       "sex         -4.0340    2.603  -1.549  0.122   -9.158    1.089  -1.549750   \n",
       "trtbps       0.0881    0.072   1.229  0.220   -0.053    0.229   1.223611   \n",
       "\n",
       "          znachimosty  \n",
       "Intercept     znachim  \n",
       "age           znachim  \n",
       "sex        ne znachim  \n",
       "trtbps     ne znachim  "
      ]
     },
     "execution_count": 13,
     "metadata": {},
     "output_type": "execute_result"
    }
   ],
   "source": [
    "df['znachimosty'] = df.apply(lambda x : 'znachim' if np.abs(x['tvalues']) > t_crit else 'ne znachim', axis = 1 )\n",
    "df"
   ]
  },
  {
   "cell_type": "markdown",
   "id": "787508e6",
   "metadata": {},
   "source": [
    "### Вывод\n",
    "При анализе пульса у пациентов значимым показателем является только  возраст, в то время как пол и давление не значимы."
   ]
  },
  {
   "cell_type": "markdown",
   "id": "e4d6abb7",
   "metadata": {},
   "source": [
    "## 5. F-test"
   ]
  },
  {
   "cell_type": "markdown",
   "id": "752d103f",
   "metadata": {},
   "source": [
    "$$\n",
    "H0: \\beta_{thalachh}=\\beta_{age}=\\beta_{sex}=\\beta_{trtbps}=0\n",
    "$$\n",
    "$$\n",
    "H1: \\beta_{thalachh}^2+\\beta_{age}^2+\\beta_{sex}^2+\\beta_{trtbps}^2>0\n",
    "$$"
   ]
  },
  {
   "cell_type": "code",
   "execution_count": 30,
   "id": "551fa976",
   "metadata": {},
   "outputs": [],
   "source": [
    "# Отфильтруем датафрейм по половому признаку\n",
    "heart_w = df[df['sex']==1] # Датафрейм для женщин\n",
    "heart_m = df[df['sex']==0] # Датафрейм для мужчин"
   ]
  },
  {
   "cell_type": "code",
   "execution_count": 31,
   "id": "a3d556d9",
   "metadata": {},
   "outputs": [
    {
     "data": {
      "text/html": [
       "<div>\n",
       "<style scoped>\n",
       "    .dataframe tbody tr th:only-of-type {\n",
       "        vertical-align: middle;\n",
       "    }\n",
       "\n",
       "    .dataframe tbody tr th {\n",
       "        vertical-align: top;\n",
       "    }\n",
       "\n",
       "    .dataframe thead th {\n",
       "        text-align: right;\n",
       "    }\n",
       "</style>\n",
       "<table border=\"1\" class=\"dataframe\">\n",
       "  <thead>\n",
       "    <tr style=\"text-align: right;\">\n",
       "      <th></th>\n",
       "      <th>age</th>\n",
       "      <th>sex</th>\n",
       "      <th>cp</th>\n",
       "      <th>trtbps</th>\n",
       "      <th>chol</th>\n",
       "      <th>fbs</th>\n",
       "      <th>restecg</th>\n",
       "      <th>thalachh</th>\n",
       "      <th>exng</th>\n",
       "      <th>oldpeak</th>\n",
       "      <th>slp</th>\n",
       "      <th>caa</th>\n",
       "      <th>thall</th>\n",
       "      <th>output</th>\n",
       "    </tr>\n",
       "  </thead>\n",
       "  <tbody>\n",
       "    <tr>\n",
       "      <th>2</th>\n",
       "      <td>41</td>\n",
       "      <td>0</td>\n",
       "      <td>1</td>\n",
       "      <td>130</td>\n",
       "      <td>204</td>\n",
       "      <td>0</td>\n",
       "      <td>0</td>\n",
       "      <td>172</td>\n",
       "      <td>0</td>\n",
       "      <td>1.4</td>\n",
       "      <td>2</td>\n",
       "      <td>0</td>\n",
       "      <td>2</td>\n",
       "      <td>1</td>\n",
       "    </tr>\n",
       "    <tr>\n",
       "      <th>4</th>\n",
       "      <td>57</td>\n",
       "      <td>0</td>\n",
       "      <td>0</td>\n",
       "      <td>120</td>\n",
       "      <td>354</td>\n",
       "      <td>0</td>\n",
       "      <td>1</td>\n",
       "      <td>163</td>\n",
       "      <td>1</td>\n",
       "      <td>0.6</td>\n",
       "      <td>2</td>\n",
       "      <td>0</td>\n",
       "      <td>2</td>\n",
       "      <td>1</td>\n",
       "    </tr>\n",
       "    <tr>\n",
       "      <th>6</th>\n",
       "      <td>56</td>\n",
       "      <td>0</td>\n",
       "      <td>1</td>\n",
       "      <td>140</td>\n",
       "      <td>294</td>\n",
       "      <td>0</td>\n",
       "      <td>0</td>\n",
       "      <td>153</td>\n",
       "      <td>0</td>\n",
       "      <td>1.3</td>\n",
       "      <td>1</td>\n",
       "      <td>0</td>\n",
       "      <td>2</td>\n",
       "      <td>1</td>\n",
       "    </tr>\n",
       "    <tr>\n",
       "      <th>11</th>\n",
       "      <td>48</td>\n",
       "      <td>0</td>\n",
       "      <td>2</td>\n",
       "      <td>130</td>\n",
       "      <td>275</td>\n",
       "      <td>0</td>\n",
       "      <td>1</td>\n",
       "      <td>139</td>\n",
       "      <td>0</td>\n",
       "      <td>0.2</td>\n",
       "      <td>2</td>\n",
       "      <td>0</td>\n",
       "      <td>2</td>\n",
       "      <td>1</td>\n",
       "    </tr>\n",
       "    <tr>\n",
       "      <th>14</th>\n",
       "      <td>58</td>\n",
       "      <td>0</td>\n",
       "      <td>3</td>\n",
       "      <td>150</td>\n",
       "      <td>283</td>\n",
       "      <td>1</td>\n",
       "      <td>0</td>\n",
       "      <td>162</td>\n",
       "      <td>0</td>\n",
       "      <td>1.0</td>\n",
       "      <td>2</td>\n",
       "      <td>0</td>\n",
       "      <td>2</td>\n",
       "      <td>1</td>\n",
       "    </tr>\n",
       "    <tr>\n",
       "      <th>...</th>\n",
       "      <td>...</td>\n",
       "      <td>...</td>\n",
       "      <td>...</td>\n",
       "      <td>...</td>\n",
       "      <td>...</td>\n",
       "      <td>...</td>\n",
       "      <td>...</td>\n",
       "      <td>...</td>\n",
       "      <td>...</td>\n",
       "      <td>...</td>\n",
       "      <td>...</td>\n",
       "      <td>...</td>\n",
       "      <td>...</td>\n",
       "      <td>...</td>\n",
       "    </tr>\n",
       "    <tr>\n",
       "      <th>289</th>\n",
       "      <td>55</td>\n",
       "      <td>0</td>\n",
       "      <td>0</td>\n",
       "      <td>128</td>\n",
       "      <td>205</td>\n",
       "      <td>0</td>\n",
       "      <td>2</td>\n",
       "      <td>130</td>\n",
       "      <td>1</td>\n",
       "      <td>2.0</td>\n",
       "      <td>1</td>\n",
       "      <td>1</td>\n",
       "      <td>3</td>\n",
       "      <td>0</td>\n",
       "    </tr>\n",
       "    <tr>\n",
       "      <th>292</th>\n",
       "      <td>58</td>\n",
       "      <td>0</td>\n",
       "      <td>0</td>\n",
       "      <td>170</td>\n",
       "      <td>225</td>\n",
       "      <td>1</td>\n",
       "      <td>0</td>\n",
       "      <td>146</td>\n",
       "      <td>1</td>\n",
       "      <td>2.8</td>\n",
       "      <td>1</td>\n",
       "      <td>2</td>\n",
       "      <td>1</td>\n",
       "      <td>0</td>\n",
       "    </tr>\n",
       "    <tr>\n",
       "      <th>296</th>\n",
       "      <td>63</td>\n",
       "      <td>0</td>\n",
       "      <td>0</td>\n",
       "      <td>124</td>\n",
       "      <td>197</td>\n",
       "      <td>0</td>\n",
       "      <td>1</td>\n",
       "      <td>136</td>\n",
       "      <td>1</td>\n",
       "      <td>0.0</td>\n",
       "      <td>1</td>\n",
       "      <td>0</td>\n",
       "      <td>2</td>\n",
       "      <td>0</td>\n",
       "    </tr>\n",
       "    <tr>\n",
       "      <th>298</th>\n",
       "      <td>57</td>\n",
       "      <td>0</td>\n",
       "      <td>0</td>\n",
       "      <td>140</td>\n",
       "      <td>241</td>\n",
       "      <td>0</td>\n",
       "      <td>1</td>\n",
       "      <td>123</td>\n",
       "      <td>1</td>\n",
       "      <td>0.2</td>\n",
       "      <td>1</td>\n",
       "      <td>0</td>\n",
       "      <td>3</td>\n",
       "      <td>0</td>\n",
       "    </tr>\n",
       "    <tr>\n",
       "      <th>302</th>\n",
       "      <td>57</td>\n",
       "      <td>0</td>\n",
       "      <td>1</td>\n",
       "      <td>130</td>\n",
       "      <td>236</td>\n",
       "      <td>0</td>\n",
       "      <td>0</td>\n",
       "      <td>174</td>\n",
       "      <td>0</td>\n",
       "      <td>0.0</td>\n",
       "      <td>1</td>\n",
       "      <td>1</td>\n",
       "      <td>2</td>\n",
       "      <td>0</td>\n",
       "    </tr>\n",
       "  </tbody>\n",
       "</table>\n",
       "<p>96 rows × 14 columns</p>\n",
       "</div>"
      ],
      "text/plain": [
       "     age  sex  cp  trtbps  chol  fbs  restecg  thalachh  exng  oldpeak  slp  \\\n",
       "2     41    0   1     130   204    0        0       172     0      1.4    2   \n",
       "4     57    0   0     120   354    0        1       163     1      0.6    2   \n",
       "6     56    0   1     140   294    0        0       153     0      1.3    1   \n",
       "11    48    0   2     130   275    0        1       139     0      0.2    2   \n",
       "14    58    0   3     150   283    1        0       162     0      1.0    2   \n",
       "..   ...  ...  ..     ...   ...  ...      ...       ...   ...      ...  ...   \n",
       "289   55    0   0     128   205    0        2       130     1      2.0    1   \n",
       "292   58    0   0     170   225    1        0       146     1      2.8    1   \n",
       "296   63    0   0     124   197    0        1       136     1      0.0    1   \n",
       "298   57    0   0     140   241    0        1       123     1      0.2    1   \n",
       "302   57    0   1     130   236    0        0       174     0      0.0    1   \n",
       "\n",
       "     caa  thall  output  \n",
       "2      0      2       1  \n",
       "4      0      2       1  \n",
       "6      0      2       1  \n",
       "11     0      2       1  \n",
       "14     0      2       1  \n",
       "..   ...    ...     ...  \n",
       "289    1      3       0  \n",
       "292    2      1       0  \n",
       "296    0      2       0  \n",
       "298    0      3       0  \n",
       "302    1      2       0  \n",
       "\n",
       "[96 rows x 14 columns]"
      ]
     },
     "execution_count": 31,
     "metadata": {},
     "output_type": "execute_result"
    }
   ],
   "source": [
    "heart_m"
   ]
  },
  {
   "cell_type": "code",
   "execution_count": 33,
   "id": "aaefc0e4",
   "metadata": {},
   "outputs": [
    {
     "data": {
      "text/plain": [
       "<seaborn.axisgrid.FacetGrid at 0x25398609280>"
      ]
     },
     "execution_count": 33,
     "metadata": {},
     "output_type": "execute_result"
    },
    {
     "data": {
      "image/png": "[encoded data removed]",
      "text/plain": [
       "<Figure size 558.875x500 with 1 Axes>"
      ]
     },
     "metadata": {},
     "output_type": "display_data"
    }
   ],
   "source": [
    "sns.lmplot(data = df, x = 'thalachh', y = 'age', ci = None, hue = 'sex')"
   ]
  },
  {
   "cell_type": "code",
   "execution_count": 35,
   "id": "0ffada61",
   "metadata": {},
   "outputs": [],
   "source": [
    "hrt = smf.ols(data= df, formula='thalachh~age+sex+trtbps').fit()\n",
    "hrt_w = smf.ols(data=heart_w , formula='thalachh~age+sex+trtbps').fit()\n",
    "hrt_m = smf.ols(data= heart_m, formula='thalachh~age+sex+trtbps').fit()"
   ]
  },
  {
   "cell_type": "code",
   "execution_count": 36,
   "id": "4aa70d6a",
   "metadata": {},
   "outputs": [
    {
     "name": "stdout",
     "output_type": "stream",
     "text": [
      "RSS:131505.53, RSS_1:99117.77,RSS_2:31890.3 \n"
     ]
    }
   ],
   "source": [
    "print(f'RSS:{hrt.ssr.round(2)}, RSS_1:{hrt_w.ssr.round(2)},RSS_2:{hrt_m.ssr.round(2)} ')"
   ]
  },
  {
   "cell_type": "code",
   "execution_count": 38,
   "id": "a9d3010d",
   "metadata": {},
   "outputs": [
    {
     "data": {
      "text/plain": [
       "0.27434831968523354"
      ]
     },
     "execution_count": 38,
     "metadata": {},
     "output_type": "execute_result"
    }
   ],
   "source": [
    "F_obs =( hrt.ssr - (hrt_w.ssr + hrt_m.ssr) )/((hrt_w.ssr + hrt_m.ssr)) * (len( heart_w ) + len( heart_m) - 14) / 4\n",
    "F_obs"
   ]
  },
  {
   "cell_type": "code",
   "execution_count": 39,
   "id": "60d48816",
   "metadata": {},
   "outputs": [
    {
     "data": {
      "text/plain": [
       "2.4028824503558126"
      ]
     },
     "execution_count": 39,
     "metadata": {},
     "output_type": "execute_result"
    }
   ],
   "source": [
    "alpha = 0.05\n",
    "stats.f.ppf(1-alpha,4,len( heart_m ) + len( heart_w) - 14  )"
   ]
  },
  {
   "cell_type": "markdown",
   "id": "795a16a1",
   "metadata": {},
   "source": [
    "Вывод:\n",
    "$$\n",
    "F_{obs}<F_{cr}\n",
    "$$\n",
    "Данные согласуются с гипотезой Н0, структурные изменения не значимы"
   ]
  },
  {
   "cell_type": "markdown",
   "id": "a5781b80",
   "metadata": {},
   "source": [
    "## 6. Доверительные интервалы"
   ]
  },
  {
   "cell_type": "code",
   "execution_count": 40,
   "id": "09730f7a",
   "metadata": {},
   "outputs": [
    {
     "data": {
      "text/html": [
       "<table class=\"simpletable\">\n",
       "<caption>OLS Regression Results</caption>\n",
       "<tr>\n",
       "  <th>Dep. Variable:</th>        <td>thalachh</td>     <th>  R-squared:         </th> <td>   0.170</td>\n",
       "</tr>\n",
       "<tr>\n",
       "  <th>Model:</th>                   <td>OLS</td>       <th>  Adj. R-squared:    </th> <td>   0.162</td>\n",
       "</tr>\n",
       "<tr>\n",
       "  <th>Method:</th>             <td>Least Squares</td>  <th>  F-statistic:       </th> <td>   20.42</td>\n",
       "</tr>\n",
       "<tr>\n",
       "  <th>Date:</th>             <td>Sat, 13 May 2023</td> <th>  Prob (F-statistic):</th> <td>4.61e-12</td>\n",
       "</tr>\n",
       "<tr>\n",
       "  <th>Time:</th>                 <td>15:13:45</td>     <th>  Log-Likelihood:    </th> <td> -1350.0</td>\n",
       "</tr>\n",
       "<tr>\n",
       "  <th>No. Observations:</th>      <td>   303</td>      <th>  AIC:               </th> <td>   2708.</td>\n",
       "</tr>\n",
       "<tr>\n",
       "  <th>Df Residuals:</th>          <td>   299</td>      <th>  BIC:               </th> <td>   2723.</td>\n",
       "</tr>\n",
       "<tr>\n",
       "  <th>Df Model:</th>              <td>     3</td>      <th>                     </th>     <td> </td>   \n",
       "</tr>\n",
       "<tr>\n",
       "  <th>Covariance Type:</th>      <td>nonrobust</td>    <th>                     </th>     <td> </td>   \n",
       "</tr>\n",
       "</table>\n",
       "<table class=\"simpletable\">\n",
       "<tr>\n",
       "      <td></td>         <th>coef</th>     <th>std err</th>      <th>t</th>      <th>P>|t|</th>  <th>[0.025</th>    <th>0.975]</th>  \n",
       "</tr>\n",
       "<tr>\n",
       "  <th>Intercept</th> <td>  199.1356</td> <td>   10.713</td> <td>   18.588</td> <td> 0.000</td> <td>  178.053</td> <td>  220.218</td>\n",
       "</tr>\n",
       "<tr>\n",
       "  <th>age</th>       <td>   -1.0730</td> <td>    0.139</td> <td>   -7.725</td> <td> 0.000</td> <td>   -1.346</td> <td>   -0.800</td>\n",
       "</tr>\n",
       "<tr>\n",
       "  <th>sex</th>       <td>   -4.0340</td> <td>    2.603</td> <td>   -1.549</td> <td> 0.122</td> <td>   -9.158</td> <td>    1.089</td>\n",
       "</tr>\n",
       "<tr>\n",
       "  <th>trtbps</th>    <td>    0.0881</td> <td>    0.072</td> <td>    1.229</td> <td> 0.220</td> <td>   -0.053</td> <td>    0.229</td>\n",
       "</tr>\n",
       "</table>\n",
       "<table class=\"simpletable\">\n",
       "<tr>\n",
       "  <th>Omnibus:</th>       <td>17.944</td> <th>  Durbin-Watson:     </th> <td>   1.779</td>\n",
       "</tr>\n",
       "<tr>\n",
       "  <th>Prob(Omnibus):</th> <td> 0.000</td> <th>  Jarque-Bera (JB):  </th> <td>  20.104</td>\n",
       "</tr>\n",
       "<tr>\n",
       "  <th>Skew:</th>          <td>-0.628</td> <th>  Prob(JB):          </th> <td>4.31e-05</td>\n",
       "</tr>\n",
       "<tr>\n",
       "  <th>Kurtosis:</th>      <td> 2.879</td> <th>  Cond. No.          </th> <td>1.28e+03</td>\n",
       "</tr>\n",
       "</table><br/><br/>Notes:<br/>[1] Standard Errors assume that the covariance matrix of the errors is correctly specified.<br/>[2] The condition number is large, 1.28e+03. This might indicate that there are<br/>strong multicollinearity or other numerical problems."
      ],
      "text/plain": [
       "<class 'statsmodels.iolib.summary.Summary'>\n",
       "\"\"\"\n",
       "                            OLS Regression Results                            \n",
       "==============================================================================\n",
       "Dep. Variable:               thalachh   R-squared:                       0.170\n",
       "Model:                            OLS   Adj. R-squared:                  0.162\n",
       "Method:                 Least Squares   F-statistic:                     20.42\n",
       "Date:                Sat, 13 May 2023   Prob (F-statistic):           4.61e-12\n",
       "Time:                        15:13:45   Log-Likelihood:                -1350.0\n",
       "No. Observations:                 303   AIC:                             2708.\n",
       "Df Residuals:                     299   BIC:                             2723.\n",
       "Df Model:                           3                                         \n",
       "Covariance Type:            nonrobust                                         \n",
       "==============================================================================\n",
       "                 coef    std err          t      P>|t|      [0.025      0.975]\n",
       "------------------------------------------------------------------------------\n",
       "Intercept    199.1356     10.713     18.588      0.000     178.053     220.218\n",
       "age           -1.0730      0.139     -7.725      0.000      -1.346      -0.800\n",
       "sex           -4.0340      2.603     -1.549      0.122      -9.158       1.089\n",
       "trtbps         0.0881      0.072      1.229      0.220      -0.053       0.229\n",
       "==============================================================================\n",
       "Omnibus:                       17.944   Durbin-Watson:                   1.779\n",
       "Prob(Omnibus):                  0.000   Jarque-Bera (JB):               20.104\n",
       "Skew:                          -0.628   Prob(JB):                     4.31e-05\n",
       "Kurtosis:                       2.879   Cond. No.                     1.28e+03\n",
       "==============================================================================\n",
       "\n",
       "Notes:\n",
       "[1] Standard Errors assume that the covariance matrix of the errors is correctly specified.\n",
       "[2] The condition number is large, 1.28e+03. This might indicate that there are\n",
       "strong multicollinearity or other numerical problems.\n",
       "\"\"\""
      ]
     },
     "execution_count": 40,
     "metadata": {},
     "output_type": "execute_result"
    }
   ],
   "source": [
    "model1 = smf.ols(formula='thalachh~age+sex+trtbps', data=df).fit()\n",
    "model1.summary()"
   ]
  },
  {
   "cell_type": "code",
   "execution_count": 41,
   "id": "1744b6cc",
   "metadata": {},
   "outputs": [
    {
     "data": {
      "text/html": [
       "<div>\n",
       "<style scoped>\n",
       "    .dataframe tbody tr th:only-of-type {\n",
       "        vertical-align: middle;\n",
       "    }\n",
       "\n",
       "    .dataframe tbody tr th {\n",
       "        vertical-align: top;\n",
       "    }\n",
       "\n",
       "    .dataframe thead th {\n",
       "        text-align: right;\n",
       "    }\n",
       "</style>\n",
       "<table border=\"1\" class=\"dataframe\">\n",
       "  <thead>\n",
       "    <tr style=\"text-align: right;\">\n",
       "      <th></th>\n",
       "      <th>coef</th>\n",
       "      <th>std err</th>\n",
       "      <th>t</th>\n",
       "      <th>P&gt;|t|</th>\n",
       "      <th>[0.025</th>\n",
       "      <th>0.975]</th>\n",
       "    </tr>\n",
       "  </thead>\n",
       "  <tbody>\n",
       "    <tr>\n",
       "      <th>Intercept</th>\n",
       "      <td>199.1356</td>\n",
       "      <td>10.713</td>\n",
       "      <td>18.588</td>\n",
       "      <td>0.000</td>\n",
       "      <td>178.053</td>\n",
       "      <td>220.218</td>\n",
       "    </tr>\n",
       "    <tr>\n",
       "      <th>age</th>\n",
       "      <td>-1.0730</td>\n",
       "      <td>0.139</td>\n",
       "      <td>-7.725</td>\n",
       "      <td>0.000</td>\n",
       "      <td>-1.346</td>\n",
       "      <td>-0.800</td>\n",
       "    </tr>\n",
       "    <tr>\n",
       "      <th>sex</th>\n",
       "      <td>-4.0340</td>\n",
       "      <td>2.603</td>\n",
       "      <td>-1.549</td>\n",
       "      <td>0.122</td>\n",
       "      <td>-9.158</td>\n",
       "      <td>1.089</td>\n",
       "    </tr>\n",
       "    <tr>\n",
       "      <th>trtbps</th>\n",
       "      <td>0.0881</td>\n",
       "      <td>0.072</td>\n",
       "      <td>1.229</td>\n",
       "      <td>0.220</td>\n",
       "      <td>-0.053</td>\n",
       "      <td>0.229</td>\n",
       "    </tr>\n",
       "  </tbody>\n",
       "</table>\n",
       "</div>"
      ],
      "text/plain": [
       "               coef  std err       t  P>|t|   [0.025   0.975]\n",
       "Intercept  199.1356   10.713  18.588  0.000  178.053  220.218\n",
       "age         -1.0730    0.139  -7.725  0.000   -1.346   -0.800\n",
       "sex         -4.0340    2.603  -1.549  0.122   -9.158    1.089\n",
       "trtbps       0.0881    0.072   1.229  0.220   -0.053    0.229"
      ]
     },
     "execution_count": 41,
     "metadata": {},
     "output_type": "execute_result"
    }
   ],
   "source": [
    "df_table = pd.read_html(model.summary().tables[1].as_html(), header=0, index_col=0)[0]\n",
    "df_table"
   ]
  },
  {
   "cell_type": "code",
   "execution_count": 42,
   "id": "6a97e9cb",
   "metadata": {},
   "outputs": [
    {
     "name": "stdout",
     "output_type": "stream",
     "text": [
      "Количество наблюдений = 303\n",
      "Количество регрессоров + 1 = 4\n",
      "Уровень значимости alpha = 0.05\n",
      "Критическое значение t_cr = 1.968\n"
     ]
    }
   ],
   "source": [
    "alpha = 0.05 # Уровень значимости 5%\n",
    "nobs = model.nobs\n",
    "regr_cnt = model.df_model + 1\n",
    "print(f'Количество наблюдений = {nobs:.0f}')\n",
    "print(f'Количество регрессоров + 1 = {regr_cnt:.0f}')\n",
    "# 5%-критическое значение t-распределения\n",
    "t_cr = stats.t.ppf(1-alpha/2, nobs - regr_cnt)\n",
    "print(f'Уровень значимости alpha = {alpha:.2f}')\n",
    "print(f'Критическое значение t_cr = {t_cr:.3f}')"
   ]
  },
  {
   "cell_type": "code",
   "execution_count": 43,
   "id": "ee72d158",
   "metadata": {},
   "outputs": [
    {
     "data": {
      "text/html": [
       "<div>\n",
       "<style scoped>\n",
       "    .dataframe tbody tr th:only-of-type {\n",
       "        vertical-align: middle;\n",
       "    }\n",
       "\n",
       "    .dataframe tbody tr th {\n",
       "        vertical-align: top;\n",
       "    }\n",
       "\n",
       "    .dataframe thead th {\n",
       "        text-align: right;\n",
       "    }\n",
       "</style>\n",
       "<table border=\"1\" class=\"dataframe\">\n",
       "  <thead>\n",
       "    <tr style=\"text-align: right;\">\n",
       "      <th></th>\n",
       "      <th>coef</th>\n",
       "      <th>std err</th>\n",
       "      <th>t</th>\n",
       "      <th>P&gt;|t|</th>\n",
       "      <th>[0.025</th>\n",
       "      <th>0.975]</th>\n",
       "      <th>lower</th>\n",
       "      <th>upper</th>\n",
       "    </tr>\n",
       "  </thead>\n",
       "  <tbody>\n",
       "    <tr>\n",
       "      <th>Intercept</th>\n",
       "      <td>199.1356</td>\n",
       "      <td>10.713</td>\n",
       "      <td>18.588</td>\n",
       "      <td>0.000</td>\n",
       "      <td>178.053</td>\n",
       "      <td>220.218</td>\n",
       "      <td>178.05</td>\n",
       "      <td>220.22</td>\n",
       "    </tr>\n",
       "    <tr>\n",
       "      <th>age</th>\n",
       "      <td>-1.0730</td>\n",
       "      <td>0.139</td>\n",
       "      <td>-7.725</td>\n",
       "      <td>0.000</td>\n",
       "      <td>-1.346</td>\n",
       "      <td>-0.800</td>\n",
       "      <td>-1.35</td>\n",
       "      <td>-0.80</td>\n",
       "    </tr>\n",
       "    <tr>\n",
       "      <th>sex</th>\n",
       "      <td>-4.0340</td>\n",
       "      <td>2.603</td>\n",
       "      <td>-1.549</td>\n",
       "      <td>0.122</td>\n",
       "      <td>-9.158</td>\n",
       "      <td>1.089</td>\n",
       "      <td>-9.16</td>\n",
       "      <td>1.09</td>\n",
       "    </tr>\n",
       "    <tr>\n",
       "      <th>trtbps</th>\n",
       "      <td>0.0881</td>\n",
       "      <td>0.072</td>\n",
       "      <td>1.229</td>\n",
       "      <td>0.220</td>\n",
       "      <td>-0.053</td>\n",
       "      <td>0.229</td>\n",
       "      <td>-0.05</td>\n",
       "      <td>0.23</td>\n",
       "    </tr>\n",
       "  </tbody>\n",
       "</table>\n",
       "</div>"
      ],
      "text/plain": [
       "               coef  std err       t  P>|t|   [0.025   0.975]   lower   upper\n",
       "Intercept  199.1356   10.713  18.588  0.000  178.053  220.218  178.05  220.22\n",
       "age         -1.0730    0.139  -7.725  0.000   -1.346   -0.800   -1.35   -0.80\n",
       "sex         -4.0340    2.603  -1.549  0.122   -9.158    1.089   -9.16    1.09\n",
       "trtbps       0.0881    0.072   1.229  0.220   -0.053    0.229   -0.05    0.23"
      ]
     },
     "execution_count": 43,
     "metadata": {},
     "output_type": "execute_result"
    }
   ],
   "source": [
    "df_table['lower'] = (df_table['coef'].astype(float) - df_table['std err'].astype(float)*t_cr).round(2)\n",
    "df_table['upper'] = (df_table['coef'].astype(float) + df_table['std err'].astype(float)*t_cr).round(2)\n",
    "df_table"
   ]
  },
  {
   "cell_type": "markdown",
   "id": "0e9c0cd9",
   "metadata": {},
   "source": [
    "## 7. Построение прогноза"
   ]
  },
  {
   "cell_type": "code",
   "execution_count": 45,
   "id": "37c6058b",
   "metadata": {},
   "outputs": [
    {
     "data": {
      "text/html": [
       "<div>\n",
       "<style scoped>\n",
       "    .dataframe tbody tr th:only-of-type {\n",
       "        vertical-align: middle;\n",
       "    }\n",
       "\n",
       "    .dataframe tbody tr th {\n",
       "        vertical-align: top;\n",
       "    }\n",
       "\n",
       "    .dataframe thead th {\n",
       "        text-align: right;\n",
       "    }\n",
       "</style>\n",
       "<table border=\"1\" class=\"dataframe\">\n",
       "  <thead>\n",
       "    <tr style=\"text-align: right;\">\n",
       "      <th></th>\n",
       "      <th>age</th>\n",
       "      <th>sex</th>\n",
       "      <th>cp</th>\n",
       "      <th>trtbps</th>\n",
       "      <th>chol</th>\n",
       "      <th>fbs</th>\n",
       "      <th>restecg</th>\n",
       "      <th>thalachh</th>\n",
       "      <th>exng</th>\n",
       "      <th>oldpeak</th>\n",
       "      <th>slp</th>\n",
       "      <th>caa</th>\n",
       "      <th>thall</th>\n",
       "      <th>output</th>\n",
       "    </tr>\n",
       "  </thead>\n",
       "  <tbody>\n",
       "    <tr>\n",
       "      <th>0</th>\n",
       "      <td>63</td>\n",
       "      <td>1</td>\n",
       "      <td>3</td>\n",
       "      <td>145</td>\n",
       "      <td>233</td>\n",
       "      <td>1</td>\n",
       "      <td>0</td>\n",
       "      <td>150</td>\n",
       "      <td>0</td>\n",
       "      <td>2.3</td>\n",
       "      <td>0</td>\n",
       "      <td>0</td>\n",
       "      <td>1</td>\n",
       "      <td>1</td>\n",
       "    </tr>\n",
       "    <tr>\n",
       "      <th>1</th>\n",
       "      <td>37</td>\n",
       "      <td>1</td>\n",
       "      <td>2</td>\n",
       "      <td>130</td>\n",
       "      <td>250</td>\n",
       "      <td>0</td>\n",
       "      <td>1</td>\n",
       "      <td>187</td>\n",
       "      <td>0</td>\n",
       "      <td>3.5</td>\n",
       "      <td>0</td>\n",
       "      <td>0</td>\n",
       "      <td>2</td>\n",
       "      <td>1</td>\n",
       "    </tr>\n",
       "    <tr>\n",
       "      <th>2</th>\n",
       "      <td>41</td>\n",
       "      <td>0</td>\n",
       "      <td>1</td>\n",
       "      <td>130</td>\n",
       "      <td>204</td>\n",
       "      <td>0</td>\n",
       "      <td>0</td>\n",
       "      <td>172</td>\n",
       "      <td>0</td>\n",
       "      <td>1.4</td>\n",
       "      <td>2</td>\n",
       "      <td>0</td>\n",
       "      <td>2</td>\n",
       "      <td>1</td>\n",
       "    </tr>\n",
       "    <tr>\n",
       "      <th>3</th>\n",
       "      <td>56</td>\n",
       "      <td>1</td>\n",
       "      <td>1</td>\n",
       "      <td>120</td>\n",
       "      <td>236</td>\n",
       "      <td>0</td>\n",
       "      <td>1</td>\n",
       "      <td>178</td>\n",
       "      <td>0</td>\n",
       "      <td>0.8</td>\n",
       "      <td>2</td>\n",
       "      <td>0</td>\n",
       "      <td>2</td>\n",
       "      <td>1</td>\n",
       "    </tr>\n",
       "  </tbody>\n",
       "</table>\n",
       "</div>"
      ],
      "text/plain": [
       "   age  sex  cp  trtbps  chol  fbs  restecg  thalachh  exng  oldpeak  slp  \\\n",
       "0   63    1   3     145   233    1        0       150     0      2.3    0   \n",
       "1   37    1   2     130   250    0        1       187     0      3.5    0   \n",
       "2   41    0   1     130   204    0        0       172     0      1.4    2   \n",
       "3   56    1   1     120   236    0        1       178     0      0.8    2   \n",
       "\n",
       "   caa  thall  output  \n",
       "0    0      1       1  \n",
       "1    0      2       1  \n",
       "2    0      2       1  \n",
       "3    0      2       1  "
      ]
     },
     "execution_count": 45,
     "metadata": {},
     "output_type": "execute_result"
    }
   ],
   "source": [
    "df1 = df.head(4)\n",
    "df1"
   ]
  },
  {
   "cell_type": "code",
   "execution_count": 46,
   "id": "1f0bbe27",
   "metadata": {},
   "outputs": [],
   "source": [
    "res = model.predict(exog=df1, transform=True)"
   ]
  },
  {
   "cell_type": "code",
   "execution_count": 47,
   "id": "e38fbe8d",
   "metadata": {},
   "outputs": [
    {
     "data": {
      "text/html": [
       "<div>\n",
       "<style scoped>\n",
       "    .dataframe tbody tr th:only-of-type {\n",
       "        vertical-align: middle;\n",
       "    }\n",
       "\n",
       "    .dataframe tbody tr th {\n",
       "        vertical-align: top;\n",
       "    }\n",
       "\n",
       "    .dataframe thead th {\n",
       "        text-align: right;\n",
       "    }\n",
       "</style>\n",
       "<table border=\"1\" class=\"dataframe\">\n",
       "  <thead>\n",
       "    <tr style=\"text-align: right;\">\n",
       "      <th></th>\n",
       "      <th>Прогноз</th>\n",
       "    </tr>\n",
       "  </thead>\n",
       "  <tbody>\n",
       "    <tr>\n",
       "      <th>1</th>\n",
       "      <td>140.28</td>\n",
       "    </tr>\n",
       "    <tr>\n",
       "      <th>2</th>\n",
       "      <td>166.86</td>\n",
       "    </tr>\n",
       "    <tr>\n",
       "      <th>3</th>\n",
       "      <td>166.60</td>\n",
       "    </tr>\n",
       "    <tr>\n",
       "      <th>4</th>\n",
       "      <td>145.59</td>\n",
       "    </tr>\n",
       "  </tbody>\n",
       "</table>\n",
       "</div>"
      ],
      "text/plain": [
       "   Прогноз\n",
       "1   140.28\n",
       "2   166.86\n",
       "3   166.60\n",
       "4   145.59"
      ]
     },
     "execution_count": 47,
     "metadata": {},
     "output_type": "execute_result"
    }
   ],
   "source": [
    "df_res = pd.DataFrame(res.round(2), columns=['Прогноз'])\n",
    "df_res.reset_index(drop=True , inplace=True)\n",
    "df_res.index += 1\n",
    "df_res"
   ]
  },
  {
   "cell_type": "markdown",
   "id": "82b0c82a",
   "metadata": {},
   "source": [
    "#### Таким образом, мы получили прогноз для первых четырех людей "
   ]
  },
  {
   "cell_type": "markdown",
   "id": "914bbb69",
   "metadata": {},
   "source": [
    "## 8. Вычисление коэффициенты VIF"
   ]
  },
  {
   "cell_type": "code",
   "execution_count": 57,
   "id": "8d5e8487",
   "metadata": {},
   "outputs": [
    {
     "data": {
      "text/plain": [
       "Intercept    61.512\n",
       "sex          -1.972\n",
       "trtbps        0.132\n",
       "thalachh     -0.155\n",
       "dtype: float64"
      ]
     },
     "execution_count": 57,
     "metadata": {},
     "output_type": "execute_result"
    }
   ],
   "source": [
    "model_0 = smf.ols(data = df , formula = 'thalachh~age+sex+trtbps').fit()\n",
    "model_1 = smf.ols(data = df , formula = 'age~sex+trtbps+thalachh').fit()\n",
    "model_2 = smf.ols(data = df , formula = 'sex~age+thalachh+trtbps').fit()\n",
    "model_3 = smf.ols(data = df , formula = 'trtbps~age+sex+thalachh').fit()\n",
    "model_1.params.round(3)"
   ]
  },
  {
   "cell_type": "code",
   "execution_count": 58,
   "id": "e013f679",
   "metadata": {},
   "outputs": [
    {
     "data": {
      "text/plain": [
       "Intercept    1.429\n",
       "age         -0.007\n",
       "thalachh    -0.002\n",
       "trtbps      -0.001\n",
       "dtype: float64"
      ]
     },
     "execution_count": 58,
     "metadata": {},
     "output_type": "execute_result"
    }
   ],
   "source": [
    "model_2.params.round(3)"
   ]
  },
  {
   "cell_type": "code",
   "execution_count": 59,
   "id": "2f7d9376",
   "metadata": {},
   "outputs": [
    {
     "data": {
      "text/plain": [
       "Intercept    91.478\n",
       "age           0.592\n",
       "sex          -0.876\n",
       "thalachh      0.057\n",
       "dtype: float64"
      ]
     },
     "execution_count": 59,
     "metadata": {},
     "output_type": "execute_result"
    }
   ],
   "source": [
    "model_3.params.round(3)"
   ]
  },
  {
   "cell_type": "code",
   "execution_count": 60,
   "id": "9ac6e60c",
   "metadata": {},
   "outputs": [
    {
     "data": {
      "text/plain": [
       "Intercept    199.135622\n",
       "age           -1.073006\n",
       "sex           -4.034019\n",
       "trtbps         0.088149\n",
       "dtype: float64"
      ]
     },
     "execution_count": 60,
     "metadata": {},
     "output_type": "execute_result"
    }
   ],
   "source": [
    "model_0.params"
   ]
  },
  {
   "cell_type": "code",
   "execution_count": 61,
   "id": "1f344561",
   "metadata": {},
   "outputs": [
    {
     "data": {
      "text/plain": [
       "0.17001473301230074"
      ]
     },
     "execution_count": 61,
     "metadata": {},
     "output_type": "execute_result"
    }
   ],
   "source": [
    "model.rsquared"
   ]
  },
  {
   "cell_type": "code",
   "execution_count": 62,
   "id": "1c538dc8",
   "metadata": {},
   "outputs": [
    {
     "data": {
      "text/plain": [
       "1.311"
      ]
     },
     "execution_count": 62,
     "metadata": {},
     "output_type": "execute_result"
    }
   ],
   "source": [
    "VIF_1 = 1/(1 - model_1.rsquared.round(3))\n",
    "VIF_1.round(3)"
   ]
  },
  {
   "cell_type": "code",
   "execution_count": 63,
   "id": "62698cfc",
   "metadata": {},
   "outputs": [
    {
     "data": {
      "text/plain": [
       "1.019"
      ]
     },
     "execution_count": 63,
     "metadata": {},
     "output_type": "execute_result"
    }
   ],
   "source": [
    "VIF_2 = 1/(1 - model_2.rsquared.round(3))\n",
    "VIF_2.round(3)"
   ]
  },
  {
   "cell_type": "code",
   "execution_count": 64,
   "id": "eb1bc769",
   "metadata": {},
   "outputs": [
    {
     "data": {
      "text/plain": [
       "1.092"
      ]
     },
     "execution_count": 64,
     "metadata": {},
     "output_type": "execute_result"
    }
   ],
   "source": [
    "VIF_3 = 1/(1 - model_3.rsquared.round(3))\n",
    "VIF_3.round(3)"
   ]
  },
  {
   "cell_type": "markdown",
   "id": "f90acb99",
   "metadata": {},
   "source": [
    "## 9. Анализ структурных сдвигов"
   ]
  },
  {
   "cell_type": "code",
   "execution_count": 65,
   "id": "bb3eeb28",
   "metadata": {},
   "outputs": [
    {
     "data": {
      "text/plain": [
       "<seaborn.axisgrid.FacetGrid at 0x25398715070>"
      ]
     },
     "execution_count": 65,
     "metadata": {},
     "output_type": "execute_result"
    },
    {
     "data": {
      "image/png": "[encoded data removed]",
      "text/plain": [
       "<Figure size 558.875x500 with 1 Axes>"
      ]
     },
     "metadata": {},
     "output_type": "display_data"
    }
   ],
   "source": [
    "sns.lmplot(x='age', y='trtbps', hue='sex', data=df)"
   ]
  },
  {
   "cell_type": "markdown",
   "id": "8db34000",
   "metadata": {},
   "source": [
    "### Анализ графика:\n",
    "В раннем возрасте артериальное давление больше у женнщин, а начинеая с 55 лет - у мужчин."
   ]
  },
  {
   "cell_type": "code",
   "execution_count": 67,
   "id": "b6ff2d57",
   "metadata": {},
   "outputs": [
    {
     "data": {
      "text/plain": [
       "<seaborn.axisgrid.FacetGrid at 0x2539affd9d0>"
      ]
     },
     "execution_count": 67,
     "metadata": {},
     "output_type": "execute_result"
    },
    {
     "data": {
      "image/png": "[encoded data removed]",
      "text/plain": [
       "<Figure size 1058.88x2000 with 8 Axes>"
      ]
     },
     "metadata": {},
     "output_type": "display_data"
    }
   ],
   "source": [
    "sns.lmplot(x=\"age\", y=\"trtbps\",hue='sex', row=\"cp\",col='fbs', data=df)"
   ]
  },
  {
   "cell_type": "markdown",
   "id": "ef555479",
   "metadata": {},
   "source": [
    "### Анализ графиков:\n",
    "- Артериальное давление у людей с болью в груди примерно одинаковое вне зависимости о пола\n",
    "- У мужчин сильная боль в груди и повышенный сахар встречается чаще, чем у женщин\n",
    "- Большинство людей не испытывают боли в груди и не страдают сахарным диабетом\n",
    "- Давление у каждой из групп примерно одинаковое"
   ]
  },
  {
   "cell_type": "markdown",
   "id": "27b88250",
   "metadata": {},
   "source": [
    "## 10. Reset-test"
   ]
  },
  {
   "cell_type": "code",
   "execution_count": 68,
   "id": "a0ad42cb",
   "metadata": {},
   "outputs": [
    {
     "data": {
      "text/plain": [
       "Intercept    199.135622\n",
       "age           -1.073006\n",
       "sex           -4.034019\n",
       "trtbps         0.088149\n",
       "dtype: float64"
      ]
     },
     "execution_count": 68,
     "metadata": {},
     "output_type": "execute_result"
    }
   ],
   "source": [
    "model = smf.ols(formula='thalachh~age+sex+trtbps', data=df).fit()\n",
    "model.params"
   ]
  },
  {
   "cell_type": "code",
   "execution_count": 69,
   "id": "e1adeea9",
   "metadata": {},
   "outputs": [],
   "source": [
    "df['tha2'] =model.predict()**2\n",
    "df['tha3'] =model.predict()**3\n",
    "df['tha4'] =model.predict()**4"
   ]
  },
  {
   "cell_type": "code",
   "execution_count": 71,
   "id": "3e5f649e",
   "metadata": {},
   "outputs": [
    {
     "data": {
      "text/plain": [
       "Intercept    199.135622\n",
       "age           -1.073006\n",
       "sex           -4.034019\n",
       "trtbps         0.088149\n",
       "dtype: float64"
      ]
     },
     "execution_count": 71,
     "metadata": {},
     "output_type": "execute_result"
    }
   ],
   "source": [
    "model_1 = smf.ols(formula='thalachh~age+sex+trtbps+tha2+tha3+tha4', data=df).fit()\n",
    "model.params"
   ]
  },
  {
   "cell_type": "code",
   "execution_count": 72,
   "id": "16ebb750",
   "metadata": {},
   "outputs": [],
   "source": [
    "R2=model_1.rsquared\n",
    "R2_res = model.rsquared"
   ]
  },
  {
   "cell_type": "code",
   "execution_count": 73,
   "id": "59ef9ccd",
   "metadata": {},
   "outputs": [
    {
     "data": {
      "text/plain": [
       "1.2176033155366943"
      ]
     },
     "execution_count": 73,
     "metadata": {},
     "output_type": "execute_result"
    }
   ],
   "source": [
    "((R2 - R2_res)/(1-R2))*((len(df)-7)/3)"
   ]
  },
  {
   "cell_type": "code",
   "execution_count": 74,
   "id": "0cd482a0",
   "metadata": {},
   "outputs": [
    {
     "data": {
      "text/plain": [
       "2.64"
      ]
     },
     "execution_count": 74,
     "metadata": {},
     "output_type": "execute_result"
    }
   ],
   "source": [
    "alpha = 0.05\n",
    "stats.f.ppf(1-alpha,3,len(df)-7).round(2)"
   ]
  },
  {
   "cell_type": "markdown",
   "id": "e98461ec",
   "metadata": {},
   "source": [
    "$$\n",
    "H0: \\beta_{thalachh}=\\beta_{age}=\\beta_{sex}=\\beta_{trtbps}=0\n",
    "$$\n",
    "$$\n",
    "H1: \\beta_{thalachh}^2+\\beta_{age}^2+\\beta_{sex}^2+\\beta_{trtbps}^2>0\n",
    "$$\n",
    "$$\n",
    "F_{obs}<F_{cr}\n",
    "$$\n",
    "Данные согласуются с гипотезой Н0"
   ]
  },
  {
   "cell_type": "markdown",
   "id": "d57830ff",
   "metadata": {},
   "source": [
    "## 11. BP-тест"
   ]
  },
  {
   "cell_type": "code",
   "execution_count": 75,
   "id": "dae7f2f9",
   "metadata": {},
   "outputs": [],
   "source": [
    "df['res2']=model.resid**2\n",
    "df['res']=model.resid"
   ]
  },
  {
   "cell_type": "code",
   "execution_count": 76,
   "id": "36bdbc46",
   "metadata": {},
   "outputs": [],
   "source": [
    "sub_model= smf.ols(data=df, formula='res2~age+sex+trtbps+tha2+tha3+tha4').fit()"
   ]
  },
  {
   "cell_type": "code",
   "execution_count": 77,
   "id": "a054b8a0",
   "metadata": {},
   "outputs": [
    {
     "data": {
      "text/plain": [
       "9.84"
      ]
     },
     "execution_count": 77,
     "metadata": {},
     "output_type": "execute_result"
    }
   ],
   "source": [
    "St = np.round(len(df)*sub_model.rsquared,2)\n",
    "St"
   ]
  },
  {
   "cell_type": "code",
   "execution_count": 78,
   "id": "89a2d3b5",
   "metadata": {},
   "outputs": [
    {
     "data": {
      "text/plain": [
       "12.591587243743977"
      ]
     },
     "execution_count": 78,
     "metadata": {},
     "output_type": "execute_result"
    }
   ],
   "source": [
    "Hi2 = stats.chi2.ppf(1-0.05,6)\n",
    "Hi2"
   ]
  },
  {
   "cell_type": "markdown",
   "id": "bef7371d",
   "metadata": {},
   "source": [
    "$$ \n",
    "nR_0^2<X_p^2\n",
    "$$\n",
    "Тест указывает на гомоскедастичность, нет оснований отвергать гипотезу Н0"
   ]
  },
  {
   "cell_type": "markdown",
   "id": "de4298f7",
   "metadata": {},
   "source": [
    "## 12. Тест Дарбина-Уотсона"
   ]
  },
  {
   "cell_type": "code",
   "execution_count": 79,
   "id": "b192ac98",
   "metadata": {},
   "outputs": [],
   "source": [
    "resSq = sum(model.resid**2)"
   ]
  },
  {
   "cell_type": "code",
   "execution_count": 80,
   "id": "1d542ece",
   "metadata": {},
   "outputs": [],
   "source": [
    "sum_resid = 0\n",
    "for i in range(len(model.resid)-1):\n",
    "    sum_resid+=(model.resid[i+1]-model.resid[i])**2"
   ]
  },
  {
   "cell_type": "code",
   "execution_count": 81,
   "id": "4c1be10c",
   "metadata": {},
   "outputs": [
    {
     "data": {
      "text/plain": [
       "1.7791025762185397"
      ]
     },
     "execution_count": 81,
     "metadata": {},
     "output_type": "execute_result"
    }
   ],
   "source": [
    "sum_resid/resSq"
   ]
  },
  {
   "cell_type": "markdown",
   "id": "070ca2de",
   "metadata": {},
   "source": [
    "$$\n",
    "p≠0\n",
    "$$\n",
    "Присутствует серийная корреляция"
   ]
  },
  {
   "cell_type": "code",
   "execution_count": null,
   "id": "a976a1a1",
   "metadata": {},
   "outputs": [],
   "source": []
  }
 ],
 "metadata": {
  "kernelspec": {
   "display_name": "Python 3 (ipykernel)",
   "language": "python",
   "name": "python3"
  },
  "language_info": {
   "codemirror_mode": {
    "name": "ipython",
    "version": 3
   },
   "file_extension": ".py",
   "mimetype": "text/x-python",
   "name": "python",
   "nbconvert_exporter": "python",
   "pygments_lexer": "ipython3",
   "version": "3.9.15"
  }
 },
 "nbformat": 4,
 "nbformat_minor": 5
}
